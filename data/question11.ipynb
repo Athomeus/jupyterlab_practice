{
 "cells": [
  {
   "cell_type": "markdown",
   "id": "6d54b66c-4669-4a89-9ba7-6773b97528e3",
   "metadata": {},
   "source": [
    "# James\n",
    "Notebook for assignment 7."
   ]
  },
  {
   "cell_type": "code",
   "execution_count": 3,
   "id": "1e622ccd-7d67-40f2-a997-1cfd21d26b81",
   "metadata": {},
   "outputs": [
    {
     "name": "stdout",
     "output_type": "stream",
     "text": [
      "5.0\n"
     ]
    },
    {
     "data": {
      "text/plain": [
       "5.0"
      ]
     },
     "execution_count": 3,
     "metadata": {},
     "output_type": "execute_result"
    }
   ],
   "source": [
    "def compute_mean(numbers):\n",
    "    \"\"\"\n",
    "    Compute the mean of a list of numbers.\n",
    "        \n",
    "    Returns:\n",
    "        float: The mean of the values\n",
    "    \"\"\"   \n",
    "    total = sum(numbers)\n",
    "    mean = total / len(numbers)\n",
    "    print(mean)\n",
    "    return mean\n",
    "\n",
    "# Assignment syntax\n",
    "compute_mean([2, 4, 6, 8])"
   ]
  },
  {
   "cell_type": "markdown",
   "id": "ef0ce79a-5a0f-4b0f-8935-401f73ef4fe5",
   "metadata": {},
   "source": [
    "The `compute_mean` function computes the mean (average) of a list of provided numbers. \n",
    "$$\\bar{x} = \\frac{x_1 + x_2 + \\ldots + x_n}{n} = \\frac{1}{n}\\left(\\sum_{i=1}^{n}x_i\\right)$$"
   ]
  }
 ],
 "metadata": {
  "kernelspec": {
   "display_name": "Python [conda env:practice_env]",
   "language": "python",
   "name": "conda-env-practice_env-py"
  },
  "language_info": {
   "codemirror_mode": {
    "name": "ipython",
    "version": 3
   },
   "file_extension": ".py",
   "mimetype": "text/x-python",
   "name": "python",
   "nbconvert_exporter": "python",
   "pygments_lexer": "ipython3",
   "version": "3.13.2"
  }
 },
 "nbformat": 4,
 "nbformat_minor": 5
}
